{
 "cells": [
  {
   "cell_type": "code",
   "execution_count": null,
   "metadata": {},
   "outputs": [],
   "source": [
    "def char_frequency(input_string):\n",
    "    \"\"\" Returns a dictionary containing letters as keys , and corresponding\n",
    "    frequencies in input_string as values.\n",
    "\n",
    "    Example Input: intelligence\n",
    "    Example Output:\n",
    "    {'i': 2, 'n': 2, 't': 1, 'e': 3, 'l': 2, 'g': 1, 'c': 1}\n",
    "    \"\"\"\n",
    "    # TODO: Your code here\n",
    "    frequence = {}\n",
    "    count = 0\n",
    "    for i in input_string:\n",
    "          inp"
   ]
  }
 ],
 "metadata": {
  "kernelspec": {
   "display_name": "Python 3",
   "language": "python",
   "name": "python3"
  },
  "language_info": {
   "codemirror_mode": {
    "name": "ipython",
    "version": 3
   },
   "file_extension": ".py",
   "mimetype": "text/x-python",
   "name": "python",
   "nbconvert_exporter": "python",
   "pygments_lexer": "ipython3",
   "version": "3.7.3"
  }
 },
 "nbformat": 4,
 "nbformat_minor": 2
}
